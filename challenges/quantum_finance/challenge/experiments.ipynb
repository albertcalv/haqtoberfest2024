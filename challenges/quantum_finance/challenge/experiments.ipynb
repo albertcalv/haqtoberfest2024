{
 "cells": [
  {
   "cell_type": "code",
   "execution_count": 68,
   "metadata": {},
   "outputs": [],
   "source": [
    "import numpy as np\n",
    "import pandas as pd\n",
    "import yfinance as yf\n",
    "import matplotlib.pyplot as plt\n",
    "import numpy as np\n",
    "from scipy.stats import norm\n",
    "\n",
    "from model_params import RISK_FREE_RATE"
   ]
  },
  {
   "cell_type": "code",
   "execution_count": 65,
   "metadata": {},
   "outputs": [],
   "source": [
    "def fetch_log_returns(start: str, end: str,\n",
    "                      tickers: str = '^GSPC ^FTSE ^N225 ^GDAXI ^IBEX')\\\n",
    "        -> pd.DataFrame:\n",
    "    \"\"\"Downloads daily price data from Yahoo finance for five different\n",
    "    stock indeces. Picks the closing daily price, keeps only bussiness days,\n",
    "    fills the blank days with the previous value, computes the log returns\n",
    "    and drops NaNs, if any.\n",
    "\n",
    "    Args:\n",
    "        start (str): starting data in format YYYY-MM-DD\n",
    "        end (str): ending data in format YYYY-MM-DD\n",
    "\n",
    "    Returns:\n",
    "        pd.DataFrame: each column must correspond to the log daily returns\n",
    "        of each asset.\n",
    "    \"\"\"\n",
    "    raw_data = yf.download(tickers=tickers, start=start,\n",
    "                           end=end, group_by='ticker',\n",
    "                           auto_adjust=True)\n",
    "    df_comp = pd.DataFrame(raw_data.copy())\n",
    "    # Pick data from the first day to the last one\n",
    "    df_comp = df_comp.iloc[1:]\n",
    "\n",
    "    #  Take the closing prices\n",
    "    df_comp['sp500'] = df_comp['^GSPC'].Close[:]\n",
    "    df_comp['dax'] = df_comp['^GDAXI'].Close[:]\n",
    "    df_comp['ftse'] = df_comp['^FTSE'].Close[:]\n",
    "    df_comp['nikkei'] = df_comp['^N225'].Close[:]\n",
    "    df_comp['ibex'] = df_comp['^IBEX'].Close[:]\n",
    "\n",
    "    # Remove columns (we have renamed them)\n",
    "    del df_comp['^GSPC'], df_comp['^GDAXI'], df_comp['^FTSE'], \\\n",
    "        df_comp['^N225'], df_comp['^IBEX']\n",
    "    # Only keeping bussiness days as the stock market is closed on weekends\n",
    "    price_data_frame = df_comp.asfreq('b')\n",
    "\n",
    "    # Forward fill: fill empty with last value\n",
    "    price_data_frame = df_comp.ffill()\n",
    "    price_data_frame = price_data_frame[1:]\n",
    "\n",
    "    log_return = np.log(price_data_frame/price_data_frame.shift(1))\n",
    "    log_return.columns = [c[0] for c in log_return.columns]\n",
    "    return log_return.dropna()"
   ]
  },
  {
   "cell_type": "code",
   "execution_count": 108,
   "metadata": {},
   "outputs": [
    {
     "name": "stderr",
     "output_type": "stream",
     "text": [
      "[*********************100%***********************]  5 of 5 completed\n"
     ]
    }
   ],
   "source": [
    "training_dataset = fetch_log_returns(start = '1995-01-01', end ='2005-12-31')"
   ]
  },
  {
   "cell_type": "code",
   "execution_count": 109,
   "metadata": {},
   "outputs": [
    {
     "data": {
      "text/html": [
       "<div>\n",
       "<style scoped>\n",
       "    .dataframe tbody tr th:only-of-type {\n",
       "        vertical-align: middle;\n",
       "    }\n",
       "\n",
       "    .dataframe tbody tr th {\n",
       "        vertical-align: top;\n",
       "    }\n",
       "\n",
       "    .dataframe thead th {\n",
       "        text-align: right;\n",
       "    }\n",
       "</style>\n",
       "<table border=\"1\" class=\"dataframe\">\n",
       "  <thead>\n",
       "    <tr style=\"text-align: right;\">\n",
       "      <th></th>\n",
       "      <th>sp500</th>\n",
       "      <th>dax</th>\n",
       "      <th>ftse</th>\n",
       "      <th>nikkei</th>\n",
       "      <th>ibex</th>\n",
       "    </tr>\n",
       "    <tr>\n",
       "      <th>Date</th>\n",
       "      <th></th>\n",
       "      <th></th>\n",
       "      <th></th>\n",
       "      <th></th>\n",
       "      <th></th>\n",
       "    </tr>\n",
       "  </thead>\n",
       "  <tbody>\n",
       "    <tr>\n",
       "      <th>1995-01-05 00:00:00+00:00</th>\n",
       "      <td>-0.000803</td>\n",
       "      <td>-0.010397</td>\n",
       "      <td>-0.006345</td>\n",
       "      <td>-0.003457</td>\n",
       "      <td>-0.019565</td>\n",
       "    </tr>\n",
       "    <tr>\n",
       "      <th>1995-01-06 00:00:00+00:00</th>\n",
       "      <td>0.000738</td>\n",
       "      <td>0.003280</td>\n",
       "      <td>0.010726</td>\n",
       "      <td>-0.004939</td>\n",
       "      <td>0.000000</td>\n",
       "    </tr>\n",
       "    <tr>\n",
       "      <th>1995-01-09 00:00:00+00:00</th>\n",
       "      <td>0.000326</td>\n",
       "      <td>-0.002330</td>\n",
       "      <td>-0.003006</td>\n",
       "      <td>-0.003826</td>\n",
       "      <td>-0.014346</td>\n",
       "    </tr>\n",
       "    <tr>\n",
       "      <th>1995-01-10 00:00:00+00:00</th>\n",
       "      <td>0.001843</td>\n",
       "      <td>0.004213</td>\n",
       "      <td>0.001504</td>\n",
       "      <td>0.002903</td>\n",
       "      <td>-0.005274</td>\n",
       "    </tr>\n",
       "    <tr>\n",
       "      <th>1995-01-11 00:00:00+00:00</th>\n",
       "      <td>-0.000043</td>\n",
       "      <td>-0.000155</td>\n",
       "      <td>-0.003601</td>\n",
       "      <td>0.002408</td>\n",
       "      <td>-0.010125</td>\n",
       "    </tr>\n",
       "  </tbody>\n",
       "</table>\n",
       "</div>"
      ],
      "text/plain": [
       "                              sp500       dax      ftse    nikkei      ibex\n",
       "Date                                                                       \n",
       "1995-01-05 00:00:00+00:00 -0.000803 -0.010397 -0.006345 -0.003457 -0.019565\n",
       "1995-01-06 00:00:00+00:00  0.000738  0.003280  0.010726 -0.004939  0.000000\n",
       "1995-01-09 00:00:00+00:00  0.000326 -0.002330 -0.003006 -0.003826 -0.014346\n",
       "1995-01-10 00:00:00+00:00  0.001843  0.004213  0.001504  0.002903 -0.005274\n",
       "1995-01-11 00:00:00+00:00 -0.000043 -0.000155 -0.003601  0.002408 -0.010125"
      ]
     },
     "execution_count": 109,
     "metadata": {},
     "output_type": "execute_result"
    }
   ],
   "source": [
    "training_dataset.head()"
   ]
  },
  {
   "cell_type": "code",
   "execution_count": 127,
   "metadata": {},
   "outputs": [
    {
     "name": "stdout",
     "output_type": "stream",
     "text": [
      "Mean Sharpe Ratio: 0.2149\n",
      "Median Sharpe Ratio: 0.2203\n",
      "Max Sharpe Ratio: 0.4111\n",
      "Min Sharpe Ratio: -0.1940\n"
     ]
    }
   ],
   "source": [
    "\n",
    "def monte_carlo_sharpe_ratio(returns, num_simulations=10000, risk_free_rate=RISK_FREE_RATE):\n",
    "    # Calculate mean returns and covariance matrix\n",
    "    assets = returns.columns.tolist()\n",
    "    mean_returns = returns.mean()\n",
    "    cov_matrix = returns.cov()\n",
    "    \n",
    "    # Number of assets\n",
    "    num_assets = len(returns.columns)\n",
    "    \n",
    "    # Initialize array to store Sharpe ratios\n",
    "    sharpe_ratios = np.zeros(num_simulations)\n",
    "    all_weights = np.zeros((num_simulations, num_assets))\n",
    "    best_weights = np.zeros(num_assets)\n",
    "    best_sharpe = -np.inf\n",
    "    for i in range(num_simulations):\n",
    "\n",
    "        # Calculate the weighted sum of returns\n",
    "        # Generate random weights\n",
    "        weights = np.random.random(num_assets)\n",
    "        weights /= np.sum(weights)  # Normalize to sum to 1\n",
    "        all_weights[i] = weights\n",
    "        # Calculate portfolio return\n",
    "        portfolio_return = np.dot(weights, mean_returns)\n",
    "\n",
    "        # Calculate annualized return (assuming 252 trading days in a year)\n",
    "        annualized_return = portfolio_return * 252\n",
    "\n",
    "        # Calculate portfolio variance\n",
    "        portfolio_variance = np.dot(weights, np.dot(cov_matrix, weights))\n",
    "\n",
    "        # Calculate annualized volatility (assuming daily returns and 252 trading days)\n",
    "        annualized_volatility = np.sqrt(portfolio_variance) * np.sqrt(252)\n",
    "\n",
    "        sharpe_ratio = (annualized_return - risk_free_rate) / annualized_volatility\n",
    "        sharpe_ratios[i] = sharpe_ratio\n",
    "        if sharpe_ratio > best_sharpe:\n",
    "            best_sharpe = sharpe_ratio\n",
    "            best_weights = weights\n",
    "\n",
    "    # Calculate mean Sharpe ratio\n",
    "    mean_sharpe = np.mean(sharpe_ratios)\n",
    "    \n",
    "    # Find weights that produce the Sharpe ratio closest to the mean\n",
    "    closest_index = np.argmin(np.abs(sharpe_ratios - mean_sharpe))\n",
    "    average_weights = all_weights[closest_index]\n",
    "\n",
    "    return sharpe_ratios, best_weights, best_sharpe, average_weights, mean_sharpe\n",
    "\n",
    "# Run Monte Carlo simulation\n",
    "sharpe_ratios, weights, best_sharpe, average_weights, mean_sharpe = monte_carlo_sharpe_ratio(training_dataset, 20000)\n",
    "\n",
    "# Calculate statistics\n",
    "mean_sharpe = np.mean(sharpe_ratios)\n",
    "median_sharpe = np.median(sharpe_ratios)\n",
    "max_sharpe = np.max(sharpe_ratios)\n",
    "min_sharpe = np.min(sharpe_ratios)\n",
    "\n",
    "print(f\"Mean Sharpe Ratio: {mean_sharpe:.4f}\")\n",
    "print(f\"Median Sharpe Ratio: {median_sharpe:.4f}\")\n",
    "print(f\"Max Sharpe Ratio: {max_sharpe:.4f}\")\n",
    "print(f\"Min Sharpe Ratio: {min_sharpe:.4f}\")\n"
   ]
  },
  {
   "cell_type": "code",
   "execution_count": 128,
   "metadata": {},
   "outputs": [
    {
     "data": {
      "text/plain": [
       "array([4.84511509e-01, 1.61096973e-02, 5.27550324e-02, 1.40948040e-04,\n",
       "       4.46482813e-01])"
      ]
     },
     "execution_count": 128,
     "metadata": {},
     "output_type": "execute_result"
    }
   ],
   "source": [
    "weights"
   ]
  },
  {
   "cell_type": "code",
   "execution_count": 129,
   "metadata": {},
   "outputs": [
    {
     "data": {
      "text/plain": [
       "np.float64(0.4110639975951253)"
      ]
     },
     "execution_count": 129,
     "metadata": {},
     "output_type": "execute_result"
    }
   ],
   "source": [
    "best_sharpe"
   ]
  },
  {
   "attachments": {},
   "cell_type": "markdown",
   "metadata": {},
   "source": [
    "We have run a Monte Carlo simulation to find the best sharpe ratio and the weights that produce it. We have run $20000$ simulations. During each simulation we have generated random weights and computed the sharpe ratio. The best sharp ratio found was $0.4110639975951253$ with the following weights:\n",
    "\n",
    "$\\left[\\begin{array}{ccccc}\n",
    "0.484511509 & 0.016109697 & 0.052755032 & 0.000140948 & 0.446482813\n",
    "\\end{array}\\right]$ \n",
    "\n",
    "In the histogram below, we have shown the Sharpe scores obtained during the Monte Carlo simulation. The results are consistent with the outcome of the quantum experiments.\n"
   ]
  },
  {
   "cell_type": "code",
   "execution_count": 130,
   "metadata": {},
   "outputs": [
    {
     "data": {
      "image/png": "[encoded data removed]",
      "text/plain": [
       "<Figure size 1000x600 with 1 Axes>"
      ]
     },
     "metadata": {},
     "output_type": "display_data"
    }
   ],
   "source": [
    "plt.figure(figsize=(10, 6))\n",
    "plt.hist(sharpe_ratios, bins=50, edgecolor='black')\n",
    "plt.title('Distribution of Sharpe Ratios')\n",
    "plt.xlabel('Sharpe Ratio')\n",
    "plt.ylabel('Frequency')\n",
    "plt.axvline(mean_sharpe, color='r', linestyle='dashed', linewidth=2, label=f'Mean: {mean_sharpe:.4f}')\n",
    "plt.legend()\n",
    "plt.show()"
   ]
  }
 ],
 "metadata": {
  "kernelspec": {
   "display_name": "haqathon",
   "language": "python",
   "name": "python3"
  },
  "language_info": {
   "codemirror_mode": {
    "name": "ipython",
    "version": 3
   },
   "file_extension": ".py",
   "mimetype": "text/x-python",
   "name": "python",
   "nbconvert_exporter": "python",
   "pygments_lexer": "ipython3",
   "version": "3.12.7"
  }
 },
 "nbformat": 4,
 "nbformat_minor": 2
}
