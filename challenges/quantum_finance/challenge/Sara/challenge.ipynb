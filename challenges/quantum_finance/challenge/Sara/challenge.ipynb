{
 "cells": [
  {
   "cell_type": "markdown",
   "metadata": {},
   "source": [
    "### Extract and clean time series data"
   ]
  },
  {
   "cell_type": "markdown",
   "metadata": {},
   "source": [
    "First, we need to get and clean some financial data. Create a function `\n",
    "def fetch_log_returns(start: str,end: str, tickers: str = '^GSPC ^FTSE ^N225 ^GDAXI ^IBEX') -> pd.DataFrame:` in `utils.py` that pulls daily pricing data from Yahoo finance and returns a pandas DataFrame with the daily log returns of every asset. \n",
    "- Use `yfinance.download()` to get the data from the already defined stock indeces\n",
    "- See **logarithmic returns** definition in  (1)"
   ]
  },
  {
   "cell_type": "code",
   "execution_count": 1,
   "metadata": {},
   "outputs": [],
   "source": [
    "from utils import fetch_log_returns"
   ]
  },
  {
   "cell_type": "code",
   "execution_count": 2,
   "metadata": {},
   "outputs": [],
   "source": [
    "from qibo.gates import CNOT, CZ\n",
    "\n",
    "K = 2 # number of qubits assigned per asset \n",
    "\n",
    "NUM_ASSETS = 5# number of assets\n",
    "N = NUM_ASSETS*K # number of total qubits\n",
    "NLAYERS = 1 # number of layers of the ansatz\n",
    "NSHOTS = 100 # when measuring the ansatz\n",
    "\n",
    "LAMBDA_1 = 1.0 # return penalty coefficient\n",
    "LAMBDA_2 = 1.0 # risk penalty coefficient\n",
    "LAMBDA_3 = 100.0 # normalization penalty coefficient\n",
    "SIGMA_TARGET = 0.1 # target volatility\n",
    "\n",
    "TWO_QUBIT_GATES = {\"CZ\": CZ, \"CNOT\": CNOT} # tytpes of two-qubit gates\n",
    "RISK_FREE_RATE = 0.03 # return that can be acquired in the market without assuming any risk\n",
    "TOLERANCE = 0.5 # probability threshold to consider a portfolio after the optimization process"
   ]
  },
  {
   "cell_type": "code",
   "execution_count": 3,
   "metadata": {},
   "outputs": [
    {
     "name": "stderr",
     "output_type": "stream",
     "text": [
      "[*********************100%***********************]  5 of 5 completed\n"
     ]
    }
   ],
   "source": [
    "\n",
    "training_dataset = fetch_log_returns(start = '1995-01-01', end ='1995-12-31') #, end ='1995-01-05') # "
   ]
  },
  {
   "cell_type": "code",
   "execution_count": 4,
   "metadata": {},
   "outputs": [
    {
     "data": {
      "text/html": [
       "<div>\n",
       "<style scoped>\n",
       "    .dataframe tbody tr th:only-of-type {\n",
       "        vertical-align: middle;\n",
       "    }\n",
       "\n",
       "    .dataframe tbody tr th {\n",
       "        vertical-align: top;\n",
       "    }\n",
       "\n",
       "    .dataframe thead th {\n",
       "        text-align: right;\n",
       "    }\n",
       "</style>\n",
       "<table border=\"1\" class=\"dataframe\">\n",
       "  <thead>\n",
       "    <tr style=\"text-align: right;\">\n",
       "      <th></th>\n",
       "      <th>sp500</th>\n",
       "      <th>dax</th>\n",
       "      <th>ftse</th>\n",
       "      <th>nikkei</th>\n",
       "      <th>ibex</th>\n",
       "    </tr>\n",
       "    <tr>\n",
       "      <th>Date</th>\n",
       "      <th></th>\n",
       "      <th></th>\n",
       "      <th></th>\n",
       "      <th></th>\n",
       "      <th></th>\n",
       "    </tr>\n",
       "  </thead>\n",
       "  <tbody>\n",
       "    <tr>\n",
       "      <th>1995-01-05 00:00:00+00:00</th>\n",
       "      <td>-0.000803</td>\n",
       "      <td>-0.010397</td>\n",
       "      <td>-0.006345</td>\n",
       "      <td>-0.003457</td>\n",
       "      <td>-0.019565</td>\n",
       "    </tr>\n",
       "    <tr>\n",
       "      <th>1995-01-06 00:00:00+00:00</th>\n",
       "      <td>0.000738</td>\n",
       "      <td>0.003280</td>\n",
       "      <td>0.010726</td>\n",
       "      <td>-0.004939</td>\n",
       "      <td>0.000000</td>\n",
       "    </tr>\n",
       "    <tr>\n",
       "      <th>1995-01-09 00:00:00+00:00</th>\n",
       "      <td>0.000326</td>\n",
       "      <td>-0.002330</td>\n",
       "      <td>-0.003006</td>\n",
       "      <td>-0.003826</td>\n",
       "      <td>-0.014346</td>\n",
       "    </tr>\n",
       "    <tr>\n",
       "      <th>1995-01-10 00:00:00+00:00</th>\n",
       "      <td>0.001843</td>\n",
       "      <td>0.004213</td>\n",
       "      <td>0.001504</td>\n",
       "      <td>0.002903</td>\n",
       "      <td>-0.005274</td>\n",
       "    </tr>\n",
       "    <tr>\n",
       "      <th>1995-01-11 00:00:00+00:00</th>\n",
       "      <td>-0.000043</td>\n",
       "      <td>-0.000155</td>\n",
       "      <td>-0.003601</td>\n",
       "      <td>0.002408</td>\n",
       "      <td>-0.010125</td>\n",
       "    </tr>\n",
       "  </tbody>\n",
       "</table>\n",
       "</div>"
      ],
      "text/plain": [
       "                              sp500       dax      ftse    nikkei      ibex\n",
       "Date                                                                       \n",
       "1995-01-05 00:00:00+00:00 -0.000803 -0.010397 -0.006345 -0.003457 -0.019565\n",
       "1995-01-06 00:00:00+00:00  0.000738  0.003280  0.010726 -0.004939  0.000000\n",
       "1995-01-09 00:00:00+00:00  0.000326 -0.002330 -0.003006 -0.003826 -0.014346\n",
       "1995-01-10 00:00:00+00:00  0.001843  0.004213  0.001504  0.002903 -0.005274\n",
       "1995-01-11 00:00:00+00:00 -0.000043 -0.000155 -0.003601  0.002408 -0.010125"
      ]
     },
     "execution_count": 4,
     "metadata": {},
     "output_type": "execute_result"
    }
   ],
   "source": [
    "training_dataset.head()"
   ]
  },
  {
   "cell_type": "markdown",
   "metadata": {},
   "source": [
    "### Define the problem instance and model parameters"
   ]
  },
  {
   "cell_type": "markdown",
   "metadata": {},
   "source": [
    "Must of the functions you will be asked to build depend on those values, so it is important to understand its meaning. "
   ]
  },
  {
   "cell_type": "code",
   "execution_count": 5,
   "metadata": {},
   "outputs": [],
   "source": [
    "# from model_params import LAMBDA_1, LAMBDA_2, LAMBDA_3, NLAYERS, NSHOTS, NUM_ASSETS, SIGMA_TARGET, TWO_QUBIT_GATES, K, N, RISK_FREE_RATE"
   ]
  },
  {
   "cell_type": "markdown",
   "metadata": {},
   "source": [
    "### Build the circuit Ansatz (without angle embedding)"
   ]
  },
  {
   "cell_type": "markdown",
   "metadata": {},
   "source": [
    "The ansatz is to Variational Quantum Algorithms what the neural network in Deep Learning. It is the mathematical structure that is supposed to adapt its structure according to the data is being fed with. We propose the most standard ansatz, the Hardware Efficient. See Section V. \n",
    "\n",
    "Build a function `build_hardware_efficient_ansatz(num_qubits: int = N, num_layers: int = NLAYERS, two_gate: str = \"CNOT\") -> models.Circuit` in `ansatz.py` that returns a Qibo circuit with the same structure as in FIG 2. Check that it works for different number of qubits, layers and two-qubit gates."
   ]
  },
  {
   "cell_type": "code",
   "execution_count": 6,
   "metadata": {},
   "outputs": [
    {
     "name": "stdout",
     "output_type": "stream",
     "text": [
      "Hardware efficient circuit ansatz\n",
      "\n",
      "q0: ─U2─U2─o─────────────────U1─M─\n",
      "q1: ─U2─U2─X─o───────────────U1─M─\n",
      "q2: ─U2─U2───X─o─────────────U1─M─\n",
      "q3: ─U2─U2─────X─o───────────U1─M─\n",
      "q4: ─U2─U2───────X─o─────────U1─M─\n",
      "q5: ─U2─U2─────────X─o───────U1─M─\n",
      "q6: ─U2─U2───────────X─o─────U1─M─\n",
      "q7: ─U2─U2─────────────X─o───U1─M─\n",
      "q8: ─U2─U2───────────────X─o─U1─M─\n",
      "q9: ─U2─U2─────────────────X─U1─M─\n"
     ]
    }
   ],
   "source": [
    "from ansatz import build_hardware_efficient_ansatz\n",
    "ansatz = build_hardware_efficient_ansatz()\n",
    "print('Hardware efficient circuit ansatz')\n",
    "print()\n",
    "print(ansatz.draw())\n"
   ]
  },
  {
   "cell_type": "markdown",
   "metadata": {},
   "source": [
    "### Build the Portfolio Optimization Hamiltonian and run the optimization process\n"
   ]
  },
  {
   "cell_type": "markdown",
   "metadata": {},
   "source": [
    "This is the most important part of the challenge. Here you'll learn how to map the finance problem to an Ising Hamiltonian. This is, how to translate a financial problem such that it can be solved using a quantum computer. \n",
    "\n",
    "First, create a function `compute_number_of_params_hwea(num_qubits: int, num_layers: int) -> int` in `utils.py` that returns the number of parameters needed the HWEA depending on the number of qubits and layers it has. You'll use it give random initial parameters to your algorithm.\n",
    "\n",
    "Secondly, we need to create a function that returns the energy, as it plays the role of a loss function during the optimization process. `compute_total_energy(parameters: list[float], circuit, dataset: pd.DataFrame, nshots = NSHOTS, num_qubits = N) -> float` in `cost_function.py` is presented in (7). Make sure you understand its meaning.. In order to build it, we suggest to first define some auxiliar functions:\n",
    "\n",
    "- `compute_return_energy(result: qibo.result.CircuitResult, dataset: pd.DataFrame, nshots: int = NSHOTS) -> float`\n",
    "- `compute_risk_energy(result: qibo.result.CircuitResult, dataset: pd.DataFrame, nshots: int = NSHOTS) -> float`\n",
    "- `compute_normalization_energy(result: qibo.result.CircuitResult, nshots: int = NSHOTS) -> float`\n",
    "\n",
    "which in turn may use the following functions:\n",
    "\n",
    "- `A(i: int, bit_string: list[int]) -> float`\n",
    "- `return_cost_function(dataset: pd.DataFrame, bit_string: list[int]) -> float`\n",
    "- `tilde_sigma(i: int,j: int, dataset: pd.DataFrame) -> float`\n",
    "- `risk_cost_function(dataset: pd.DataFrame, bit_string: list[int]) -> float`\n",
    "- `normalization_cost_function(bit_string: list[int]) -> float`\n",
    "- `compute_cost_function(dataset: pd.DataFrame, bit_string: list[int]) -> float`\n",
    "\n",
    "Check their docstring at `cost_function.py` to understand what they are supposed to do. \n",
    "\n",
    "What is the **difference between the cost function and the energy functions** in the context of this notebook? While both are closely related to (7), energy functions are built upon cost functions. When one measures a quantum state -e.g, the ansatz- one obtains a bitstring. As quantum is a probabilistic theory, several measurements of the same quantum state (after recreating it! Recall that quantum stats are destroyed when we measure them) may deliver different bitstrings. In order to account for the contribution of the different possible bistrings to the energy of the state, we need to measure several times (nshots!) and perform some basic statistic. Basically, we need to take into account the contribution of each bitstring to the total energy. This what the energy functions are supposed to do. The key here is to use `qibo.result.frequencies()`.\n"
   ]
  },
  {
   "cell_type": "markdown",
   "metadata": {},
   "source": [
    "Once `compute_total_energy` is built, it's time to use it. \n",
    "\n",
    "First, generate the correct amount of angles between 0 and 2pi and set them as initial parameters of the optimization process. \n",
    "\n",
    "Secondly, generate the ansatz. \n",
    "\n",
    "Finally, use `qibo.optimizers.optimize` method to run an optimization process. You'll get then a set of optimal parameters. As the optimizsation process may take long, it is suggested to start with a small problem instance so you can test your code fast. "
   ]
  },
  {
   "cell_type": "code",
   "execution_count": 7,
   "metadata": {},
   "outputs": [
    {
     "name": "stderr",
     "output_type": "stream",
     "text": [
      "[Qibo 0.2.8|INFO|2024-10-05 18:44:51]: Using numpy backend on /CPU:0\n"
     ]
    },
    {
     "name": "stdout",
     "output_type": "stream",
     "text": [
      "Ground state energy: 1587.42276609282\n",
      "\n",
      "Optimal parameters [ 2.86257583  1.542701    6.40696523  5.76667714  4.02289916  7.39499094\n",
      "  2.98015568  1.62381122  8.50516476  7.1815706   1.53359173  5.32691127\n",
      "  4.46083476  7.27511023  3.9898816   0.51496723 -0.42316727 11.41397753\n",
      "  2.42804932  3.31621814  6.47808293  0.2689261   6.44357781  6.1727064\n",
      "  3.61985777  2.20539334  4.63226147 -0.21751304  8.13878883  0.84814135\n",
      "  2.87866732  0.93491872  3.47086742  1.94150734  5.1016388   3.43022243\n",
      "  7.83567386  3.70051296 12.33431724  4.126433   -0.08778688 14.65019176\n",
      "  4.74648087  8.42939456  1.39027989  2.90997592  6.53267798 14.00890356\n",
      "  2.01663577 -5.77516847]\n",
      "\n",
      "Optimization process info  message: Optimization terminated successfully.\n",
      " success: True\n",
      "  status: 0\n",
      "     fun: 1587.42276609282\n",
      "       x: [ 2.863e+00  1.543e+00 ...  2.017e+00 -5.775e+00]\n",
      "     nit: 3\n",
      "   direc: [[ 1.000e+00  0.000e+00 ...  0.000e+00  0.000e+00]\n",
      "           [ 0.000e+00  1.000e+00 ...  0.000e+00  0.000e+00]\n",
      "           ...\n",
      "           [ 0.000e+00  0.000e+00 ...  1.000e+00  0.000e+00]\n",
      "           [ 0.000e+00  0.000e+00 ...  0.000e+00  1.000e+00]]\n",
      "    nfev: 2191\n"
     ]
    }
   ],
   "source": [
    "import numpy as np\n",
    "from qibo.optimizers import optimize\n",
    "from cost_function_sara import compute_total_energy\n",
    "from ansatz import build_hardware_efficient_ansatz, compute_number_of_params_hwea\n",
    "\n",
    "\n",
    "# Optimize starting from a random guess for the variational parameters\n",
    "initial_params = np.random.uniform(0, 2*np.pi, compute_number_of_params_hwea(N, NLAYERS))\n",
    "\n",
    "circuit = build_hardware_efficient_ansatz()\n",
    "# perform optimization\n",
    "best, optimal_params, extra = optimize(compute_total_energy, initial_params, args=(circuit, training_dataset))\n",
    "\n",
    "# set final solution to circuit instance\n",
    "print('Ground state energy:', best)\n",
    "print()\n",
    "print('Optimal parameters', optimal_params)\n",
    "print()\n",
    "print('Optimization process info', extra)"
   ]
  },
  {
   "cell_type": "markdown",
   "metadata": {},
   "source": [
    "### Results parsing\n"
   ]
  },
  {
   "cell_type": "markdown",
   "metadata": {},
   "source": [
    "Since the optimization process has finished, we have to parse the results to undertand which portfolio is the algorithm suggesting. \n",
    "\n",
    "Define `get_optimal_binary_portfolios_prob_and_energy(ansatz: Circuit, dataset: pd.DataFrame, nshots: int = NSHOTS, tolerance: int = TOLERANCE) -> dict` in `results_parsing.py`. It takes the ansatz and measures it. Then, it returns the portfolios that turned out to have a certain probability. The threshold is defined as `max_prob - docstring_probability < TOLERANCE`. "
   ]
  },
  {
   "cell_type": "code",
   "execution_count": 8,
   "metadata": {},
   "outputs": [
    {
     "data": {
      "text/plain": [
       "{'0100001001': {'stat_freq': 0.61, 'energy': 6.249222085949467},\n",
       " '0100001110': {'stat_freq': 0.25, 'energy': 24.999353733978165}}"
      ]
     },
     "execution_count": 8,
     "metadata": {},
     "output_type": "execute_result"
    }
   ],
   "source": [
    "from results_parsing import get_optimal_binary_portfolios_prob_and_energy\n",
    "\n",
    "optimized_ansatz = ansatz.set_parameters(optimal_params)\n",
    "optimal_binary_portfolios = get_optimal_binary_portfolios_prob_and_energy(ansatz, training_dataset)\n",
    "optimal_binary_portfolios\n"
   ]
  },
  {
   "cell_type": "markdown",
   "metadata": {},
   "source": [
    "Define `get_minimum_energy(portfolios: dict) -> float` such that you know which is the minimal energy among all the proposed portfolios. Use it to determine which is the Mininum energy portfolio in the form of a bitstring."
   ]
  },
  {
   "cell_type": "code",
   "execution_count": 9,
   "metadata": {},
   "outputs": [
    {
     "data": {
      "text/plain": [
       "(6.249222085949467, '0100001001')"
      ]
     },
     "execution_count": 9,
     "metadata": {},
     "output_type": "execute_result"
    }
   ],
   "source": [
    "from results_parsing import get_binary_portfolio, get_minimum_energy, get_decimal_portfolio\n",
    "\n",
    "min_energy, min_energy_portfolio = get_minimum_energy(optimal_binary_portfolios)\n",
    "min_energy, min_energy_portfolio\n"
   ]
  },
  {
   "cell_type": "markdown",
   "metadata": {},
   "source": [
    "Create `get_binary_portfolio(assets: list, ordered_bitstring, num_qubit_per_asset = K) -> dict` such that when receiving the minimum energy portfolio bitstring, it returns the corresponding portfolio as a dictionary."
   ]
  },
  {
   "cell_type": "code",
   "execution_count": 10,
   "metadata": {},
   "outputs": [
    {
     "data": {
      "text/plain": [
       "{'sp500': '01', 'dax': '00', 'ftse': '00', 'nikkei': '10', 'ibex': '01'}"
      ]
     },
     "execution_count": 10,
     "metadata": {},
     "output_type": "execute_result"
    }
   ],
   "source": [
    "binary_porfolio = get_binary_portfolio(training_dataset.columns, min_energy_portfolio)\n",
    "binary_porfolio"
   ]
  },
  {
   "cell_type": "markdown",
   "metadata": {},
   "source": [
    " Build `get_decimal_portfolio(binary_portfolio: dict) -> dict`"
   ]
  },
  {
   "cell_type": "code",
   "execution_count": 11,
   "metadata": {},
   "outputs": [
    {
     "data": {
      "text/plain": [
       "{'sp500': 0.25, 'dax': 0.0, 'ftse': 0.0, 'nikkei': 0.5, 'ibex': 0.25}"
      ]
     },
     "execution_count": 11,
     "metadata": {},
     "output_type": "execute_result"
    }
   ],
   "source": [
    "\n",
    "portfolio = get_decimal_portfolio(binary_porfolio)\n",
    "portfolio"
   ]
  },
  {
   "cell_type": "markdown",
   "metadata": {},
   "source": [
    "It may have happened that the portfolio is not normalized. To understand if it is reasonable, compute the amount of discretization or granularity. This is, the minimal increments that asset weights can have depending on the number of qubits you assign to them. "
   ]
  },
  {
   "cell_type": "code",
   "execution_count": 12,
   "metadata": {},
   "outputs": [
    {
     "data": {
      "text/plain": [
       "0.25"
      ]
     },
     "execution_count": 12,
     "metadata": {},
     "output_type": "execute_result"
    }
   ],
   "source": [
    "from utils import granularity\n",
    "granularity()"
   ]
  },
  {
   "cell_type": "markdown",
   "metadata": {},
   "source": [
    "### Calculating portfolio metrics"
   ]
  },
  {
   "cell_type": "markdown",
   "metadata": {},
   "source": [
    "Finally, it's time to assess the performance of the proposed portfolio. Develop `get_portfolio_metrics(portfolio: dict, dataset: pd.DataFrame, r: float = RISK_FREE_RATE) -> dict`. It should return a dictionary with the annualized return, volatility, Sharpe Ratio and normalized weights of the portfolio."
   ]
  },
  {
   "cell_type": "code",
   "execution_count": 13,
   "metadata": {},
   "outputs": [
    {
     "data": {
      "text/plain": [
       "{'Returns': 0.12063198724919033,\n",
       " 'Volatility': 0.12700375792937468,\n",
       " 'Sharpe Ratio': 0.7136165789644565,\n",
       " 'Normalized Weights': array([0.25, 0.  , 0.  , 0.5 , 0.25])}"
      ]
     },
     "execution_count": 13,
     "metadata": {},
     "output_type": "execute_result"
    }
   ],
   "source": [
    "from results_parsing import get_portfolio_metrics\n",
    "get_portfolio_metrics(portfolio, training_dataset)"
   ]
  },
  {
   "cell_type": "code",
   "execution_count": 14,
   "metadata": {},
   "outputs": [
    {
     "data": {
      "image/png": "[encoded data removed]",
      "text/plain": [
       "<Figure size 640x480 with 1 Axes>"
      ]
     },
     "metadata": {},
     "output_type": "display_data"
    }
   ],
   "source": [
    "import matplotlib.pyplot as plt\n",
    "sizes = portfolio.values()\n",
    "fig, ax = plt.subplots()\n",
    "ax.pie(sizes, labels=list(portfolio.keys()), autopct='%1.1f%%')\n",
    "plt.show()"
   ]
  },
  {
   "cell_type": "markdown",
   "metadata": {},
   "source": [
    "A explicar en el README: \n",
    "\n",
    "- crear entorno conda python 3.12, install requirements y clonar repo. \n",
    "\n",
    "Como encarar el challenge? \n",
    "1. explicar la situacion de que llego tarde\n",
    "2. read the paper in diagonal until section V. Todo eso ya está resuelto. Consultarlo encase de duda. que es lo importante? entender como mapear el problema, por eso doy el codigo, intentad avanzar rápido. \n",
    "3. Al estar modularizado, podéis trabajar en paralelo en el desarollo de funciones. Teneis un docstring detallado y los tipos de lo que se espera a la entrada y la salida. \n",
    "\n",
    "Parte fácil NO guiada: \n",
    "- Resolver por fuerza bruta para ver lo mala que es la optimización pero lo precisa que es la formulación\n",
    "- Como compara la solución de tu algortimo con los datos históricos? Benchnarking\n",
    "- MonteCarlo for PO\n",
    "\n",
    "Para hacer por libre si sabes mucho: \n",
    "\n",
    "- Trainable -> unsupervised quantum machine learning\n",
    "- Reservoir computing"
   ]
  },
  {
   "cell_type": "markdown",
   "metadata": {},
   "source": []
  }
 ],
 "metadata": {
  "kernelspec": {
   "display_name": "haqtoberfest24",
   "language": "python",
   "name": "python3"
  },
  "language_info": {
   "codemirror_mode": {
    "name": "ipython",
    "version": 3
   },
   "file_extension": ".py",
   "mimetype": "text/x-python",
   "name": "python",
   "nbconvert_exporter": "python",
   "pygments_lexer": "ipython3",
   "version": "3.12.0"
  }
 },
 "nbformat": 4,
 "nbformat_minor": 2
}
